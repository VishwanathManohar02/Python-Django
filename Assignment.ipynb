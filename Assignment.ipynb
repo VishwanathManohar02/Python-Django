{
 "cells": [
  {
   "cell_type": "code",
   "execution_count": 20,
   "metadata": {},
   "outputs": [],
   "source": [
    "d = {2:['a','b','c'],'3':['d','e','f'],4:['g','h','i'],'5':['j','k','l'],6:['m','n','o'],7:['p','q','r','s'],8:['t','u','v'],'9':['w','x','y','z']}\n",
    "l = []\n",
    "\n",
    "def num_to_char(nums):\n",
    "    count = 0\n",
    "    for i in range(len(nums)-1):\n",
    "        if nums[i] == nums[i+1]:\n",
    "            count += 1\n",
    "            if i == len(nums)-2:\n",
    "                l.append(d[nums[i]][count])\n",
    "            continue     \n",
    "        l.append(d[nums[i]][count])\n",
    "        count = 0\n",
    "            \n",
    "    return \"\".join(l)"
   ]
  },
  {
   "cell_type": "code",
   "execution_count": 21,
   "metadata": {},
   "outputs": [
    {
     "data": {
      "text/plain": [
       "'zeke'"
      ]
     },
     "execution_count": 21,
     "metadata": {},
     "output_type": "execute_result"
    }
   ],
   "source": [
    "nums = \"9999335533\"\n",
    "num_to_char(nums)"
   ]
  },
  {
   "cell_type": "code",
   "execution_count": 14,
   "metadata": {},
   "outputs": [],
   "source": [
    "def int_to_roman(num):\n",
    "    s = ''\n",
    "    i = 0\n",
    "    while num > 0:\n",
    "        for _ in range(num // N[i]):\n",
    "            s = s+R[i]\n",
    "            num = num - N[i] \n",
    "        i += 1\n",
    "        \n",
    "    return s"
   ]
  },
  {
   "cell_type": "code",
   "execution_count": 16,
   "metadata": {},
   "outputs": [
    {
     "data": {
      "text/plain": [
       "'MXXIV'"
      ]
     },
     "execution_count": 16,
     "metadata": {},
     "output_type": "execute_result"
    }
   ],
   "source": [
    "N = [1000, 900, 500, 400, 100, 90, 50, 40, 10, 9, 5, 4, 1]\n",
    "R = [\"M\", \"CM\", \"D\", \"CD\",\"C\", \"XC\", \"L\", \"XL\",\"X\", \"IX\", \"V\", \"IV\",\"I\"]\n",
    "\n",
    "int_to_roman(1024)"
   ]
  },
  {
   "cell_type": "code",
   "execution_count": 168,
   "metadata": {},
   "outputs": [
    {
     "name": "stdin",
     "output_type": "stream",
     "text": [
      " {{\n"
     ]
    },
    {
     "name": "stdout",
     "output_type": "stream",
     "text": [
      "wrong Paranthesis pattern\n"
     ]
    }
   ],
   "source": [
    "import re\n",
    "\n",
    "r = \"((\\(\\))*(\\[\\])*(\\{\\})*)*\"\n",
    "s = input()\n",
    "m = re.search(r,s)\n",
    "\n",
    "if m.span() != (0,0):\n",
    "    print(m.group())\n",
    "else:\n",
    "    print(\"wrong Paranthesis pattern\")\n"
   ]
  },
  {
   "cell_type": "code",
   "execution_count": 22,
   "metadata": {},
   "outputs": [
    {
     "name": "stdout",
     "output_type": "stream",
     "text": [
      "The valid number of lines in code is 12\n"
     ]
    }
   ],
   "source": [
    "\n",
    "input_code = \"\"\"\n",
    "#Linear search implementation\n",
    "#Takes list and a key as input and returns True or False as answer\n",
    "def linear_saerch(l,key):\n",
    "    for value in l:\n",
    "        if key == value:\n",
    "            return True #Return True is key exist\n",
    "    else:\n",
    "        return False #Return False if key does not exist\n",
    "\n",
    "l = [100,200,300,400,500,600]\n",
    "key = 500\n",
    "result = linear_search(l,key)\n",
    "print(result)\n",
    "\"\"\"\n",
    "\n",
    "input_code_list = input_code.split('\\n')\n",
    "line_count = 0\n",
    "for i in input_code_list:\n",
    "    if len(i) > 0:\n",
    "        line_count += 1\n",
    "print(\"The valid number of lines in code is\",line_count)"
   ]
  },
  {
   "cell_type": "code",
   "execution_count": 48,
   "metadata": {},
   "outputs": [],
   "source": [
    "spl_chr = \"@|!|&|#|\\$\"\n",
    "\n",
    "def pass_check(s):\n",
    "    if len(s) >= 8:\n",
    "        if [x for x in s if x.isupper()]:\n",
    "            if [x for x in s if x.isdigit()]:\n",
    "                if re.search(spl_chr,s):\n",
    "                    print(\"(Strong,[Password satisfies all conditions])\")\n",
    "                else:\n",
    "                    print(\"(Weak,[The password must contain a spcl chr])\")\n",
    "            else:\n",
    "                print(\"(Weak,[The Password must contain atleast 1 integer])\")\n",
    "        else:\n",
    "            print(\"(Weak,[The password must contain atleast 1 Uppercase letter])\")\n",
    "    else:\n",
    "        print(\"(Weak,[The password must contain atleast 8 chracters])\")   \n"
   ]
  },
  {
   "cell_type": "code",
   "execution_count": 47,
   "metadata": {},
   "outputs": [
    {
     "name": "stdout",
     "output_type": "stream",
     "text": [
      "(Weak,[The password must contain atleast 8 chracters])\n"
     ]
    }
   ],
   "source": [
    "s = \"Abcdadf\"\n",
    "pass_check(s)"
   ]
  },
  {
   "cell_type": "code",
   "execution_count": 30,
   "metadata": {},
   "outputs": [
    {
     "name": "stdout",
     "output_type": "stream",
     "text": [
      "syntactically correct\n"
     ]
    }
   ],
   "source": [
    "## First Approach\n",
    "\n",
    "import re\n",
    "\n",
    "r = \"^[A-Z][a-z]*[a-z\\s]+[A-Z]?\\.$\"\n",
    "\n",
    "s = \"The name is vish.\"\n",
    "\n",
    "m = re.search(r,s)\n",
    "\n",
    "if m and s == m.group():\n",
    "    print(\"syntactically correct\")\n",
    "else:\n",
    "    print(\"syntactically not correct\")\n",
    "    \n",
    "## Second Approach\n",
    "def check_sentence(sentence):\n",
    "    r1 = '\\s'\n",
    "    m = re.findall(r1,s)\n",
    "    \n",
    "    if len(m) == len(sentence.split())-1:\n",
    "        if sentence[0].isupper():\n",
    "            for i in range(len(sentence)-1):\n",
    "                if sentence[i].isupper() and sentence[i+1].isupper():\n",
    "                    return \"(False,[Two consucitive uppercase letters])\"\n",
    "                elif sentence[i] == \" \" and sentence[i+1] == \" \":\n",
    "                    return \"(False,[Two Consuicitive spaces are not allowed])\"\n",
    "                elif sentence[-1] != \".\":\n",
    "                    return \"(False,[The sentence should end with Full stop])\"\n",
    "            else:\n",
    "                return \"(True,[The sentence is syntactically correct])\"\n",
    "        else:\n",
    "            return \"(False,[The sentence should start from Capital letters])\"\n",
    "    else:\n",
    "        return \"(False,[The sentence should contain space between words])\""
   ]
  },
  {
   "cell_type": "code",
   "execution_count": 34,
   "metadata": {},
   "outputs": [
    {
     "data": {
      "text/plain": [
       "'(False,[Two Consuicitive spaces are not allowed])'"
      ]
     },
     "execution_count": 34,
     "metadata": {},
     "output_type": "execute_result"
    }
   ],
   "source": [
    "s1 = \"The name is Vishwa.\"\n",
    "check_sentence(s1)"
   ]
  },
  {
   "cell_type": "code",
   "execution_count": 22,
   "metadata": {},
   "outputs": [],
   "source": [
    "def adj_sum_even(l):\n",
    "    l1 = []\n",
    "    for i in range(len(l)):\n",
    "        if l[i] % 2 == 1: \n",
    "            l1.append(l[i])\n",
    "    return (l1)"
   ]
  },
  {
   "cell_type": "code",
   "execution_count": 26,
   "metadata": {},
   "outputs": [
    {
     "name": "stdout",
     "output_type": "stream",
     "text": [
      "[1, 3, 5, 7, 9]\n"
     ]
    }
   ],
   "source": [
    "l = [1,3,5,4,2,6,7,9]\n",
    "print(adj_sum_even(l))"
   ]
  },
  {
   "cell_type": "code",
   "execution_count": 62,
   "metadata": {},
   "outputs": [],
   "source": [
    "def greatest_sub_array(l):\n",
    "    new_l = []\n",
    "    for i in range(len(l)-2):\n",
    "        new_l.append(l[i:-1])\n",
    "        new_l.append(l[i+1:])\n",
    "    j = 0\n",
    "    \n",
    "    for _ in range(j,len(new_l)-1):\n",
    "        if j == len(new_l)-2:\n",
    "            if new_l[j][0] > new_l[j+1][0]:\n",
    "                return new_l[j]\n",
    "            elif new_l[j+1][0] > new_l[j][0]:\n",
    "                return new_l[j+1]\n",
    "        elif new_l[j][0] > new_l[j+1][0]:\n",
    "            return new_l[j]\n",
    "        elif new_l[j+1][0] > new_l[j][0]:\n",
    "            return new_l[j+1]\n",
    "        else:\n",
    "            j += 2\n"
   ]
  },
  {
   "cell_type": "code",
   "execution_count": 64,
   "metadata": {},
   "outputs": [
    {
     "data": {
      "text/plain": [
       "[7, 6]"
      ]
     },
     "execution_count": 64,
     "metadata": {},
     "output_type": "execute_result"
    }
   ],
   "source": [
    "l = [1,1,1,1,7,6]\n",
    "greatest_sub_array(l)"
   ]
  },
  {
   "cell_type": "code",
   "execution_count": 113,
   "metadata": {},
   "outputs": [],
   "source": [
    "I = {'New Hampshire': ['Concord', 'Hanover'], 'Massachusetts': ['Boston', 'Concord', 'Springfield'], 'Illinois': ['Chicago', 'Springfield', 'Peoria'] }\n",
    "\n",
    "def city_with_states(I):\n",
    "    d = {}\n",
    "    for i in I.keys():\n",
    "        for j in range(len(I[i])):\n",
    "            l = []\n",
    "            for k in I.keys():\n",
    "                if I[i][j] in I[k]:\n",
    "                    l.append(k)\n",
    "                    d[I[i][j]] = l                \n",
    "    return d\n",
    "\n",
    "# {'Hanover': ['New Hampshire'],\n",
    "\n",
    "# 'Chicago': ['Illinois'],'Boston': ['Massachusetts'],\n",
    "\n",
    "# 'Peoria': ['Illinois'],'Concord': ['New Hampshire','Massachusetts'],\n",
    "\n",
    "# 'Springfield': ['Massachusetts', 'Illinois'] }"
   ]
  },
  {
   "cell_type": "code",
   "execution_count": 114,
   "metadata": {},
   "outputs": [
    {
     "name": "stdout",
     "output_type": "stream",
     "text": [
      "New Hampshire\n",
      "Massachusetts\n",
      "Illinois\n"
     ]
    },
    {
     "data": {
      "text/plain": [
       "{'Concord': ['New Hampshire', 'Massachusetts'],\n",
       " 'Hanover': ['New Hampshire'],\n",
       " 'Boston': ['Massachusetts'],\n",
       " 'Springfield': ['Massachusetts', 'Illinois'],\n",
       " 'Chicago': ['Illinois'],\n",
       " 'Peoria': ['Illinois']}"
      ]
     },
     "execution_count": 114,
     "metadata": {},
     "output_type": "execute_result"
    }
   ],
   "source": [
    "city_with_states(I)"
   ]
  },
  {
   "cell_type": "code",
   "execution_count": 93,
   "metadata": {},
   "outputs": [
    {
     "name": "stdout",
     "output_type": "stream",
     "text": [
      "['Chennai', 'Bombay', 'Goa', 'Delhi']\n",
      "['Banglore', 'Delhi', 'Chennai', 'Goa']\n"
     ]
    }
   ],
   "source": [
    "d = {\"Chennai\":\"Banglore\",\"Bombay\":\"Delhi\",\"Goa\":\"Chennai\",\"Delhi\":\"Goa\"}\n",
    "\n",
    "l = list(d.keys())\n",
    "l1 = list(d.values())\n",
    "l2 = []\n",
    "print(l)\n",
    "print(l1)\n",
    "\n",
    "d1 = {}\n",
    "def f(e): \n",
    "    for i in range(len(l)):\n",
    "        if l[i] not in l1:\n",
    "            d1[l[i]] = d[l[i]]\n",
    "            break\n",
    "            \n",
    "    for j in l1:\n",
    "        if d1[l[i]] == j:\n",
    "            d1[l[l.index(j)]] = d[j]\n",
    "            d1[d[j]] = d[d[j]]\n",
    "            d1[d[d[j]]] = d[d[d[j]]]\n",
    "            \n",
    "    return d1  \n",
    "# Bombay->Delhi, Delhi->Goa, Goa->Chennai, Chennai->Bangl"
   ]
  },
  {
   "cell_type": "code",
   "execution_count": 94,
   "metadata": {},
   "outputs": [
    {
     "data": {
      "text/plain": [
       "{'Bombay': 'Delhi', 'Delhi': 'Goa', 'Goa': 'Chennai', 'Chennai': 'Banglore'}"
      ]
     },
     "execution_count": 94,
     "metadata": {},
     "output_type": "execute_result"
    }
   ],
   "source": [
    "f(d)"
   ]
  },
  {
   "cell_type": "code",
   "execution_count": 19,
   "metadata": {},
   "outputs": [
    {
     "data": {
      "text/plain": [
       "['__class__',\n",
       " '__contains__',\n",
       " '__delattr__',\n",
       " '__delitem__',\n",
       " '__dir__',\n",
       " '__doc__',\n",
       " '__eq__',\n",
       " '__format__',\n",
       " '__ge__',\n",
       " '__getattribute__',\n",
       " '__getitem__',\n",
       " '__gt__',\n",
       " '__hash__',\n",
       " '__init__',\n",
       " '__init_subclass__',\n",
       " '__iter__',\n",
       " '__le__',\n",
       " '__len__',\n",
       " '__lt__',\n",
       " '__ne__',\n",
       " '__new__',\n",
       " '__reduce__',\n",
       " '__reduce_ex__',\n",
       " '__repr__',\n",
       " '__setattr__',\n",
       " '__setitem__',\n",
       " '__sizeof__',\n",
       " '__str__',\n",
       " '__subclasshook__',\n",
       " 'clear',\n",
       " 'copy',\n",
       " 'fromkeys',\n",
       " 'get',\n",
       " 'items',\n",
       " 'keys',\n",
       " 'pop',\n",
       " 'popitem',\n",
       " 'setdefault',\n",
       " 'update',\n",
       " 'values']"
      ]
     },
     "execution_count": 19,
     "metadata": {},
     "output_type": "execute_result"
    }
   ],
   "source": [
    "dir(d1)"
   ]
  },
  {
   "cell_type": "code",
   "execution_count": null,
   "metadata": {},
   "outputs": [],
   "source": []
  }
 ],
 "metadata": {
  "kernelspec": {
   "display_name": "Python",
   "language": "python",
   "name": "conda-env-python-py"
  },
  "language_info": {
   "codemirror_mode": {
    "name": "ipython",
    "version": 3
   },
   "file_extension": ".py",
   "mimetype": "text/x-python",
   "name": "python",
   "nbconvert_exporter": "python",
   "pygments_lexer": "ipython3",
   "version": "3.6.7"
  }
 },
 "nbformat": 4,
 "nbformat_minor": 4
}
