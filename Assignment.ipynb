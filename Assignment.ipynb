{
 "cells": [
  {
   "cell_type": "markdown",
   "metadata": {},
   "source": [
    "\n",
    "1.In the pre-smartphone era,each number key is assigned a subset of the alphabet {a,b,…,z}.\n",
    "\n",
    "- 2 is assigned {a,b,c}, \n",
    "- 3 is assigned {d,e,f} \n",
    "- 4 is assigned {g,h,i} \n",
    "- 5 is assigned {j,k,l}\n",
    "- 6 is assigned {m,n,o} \n",
    "- 7 is assigned {p,q,r,s}\n",
    "- 8 is assigned {t,u,v} \n",
    "- 9 is assigned {w,x,y,z}\n",
    "\n",
    "Write a function numbers_to_chars() to find the characters generated using key 9999335533. Output should be \"zeke\"\n",
    "\n",
    "Function Name : numbers_to_chars() Input : Integer number sequence Output : Str"
   ]
  },
  {
   "cell_type": "code",
   "execution_count": 3,
   "metadata": {},
   "outputs": [],
   "source": [
    "# d = {2:['a','b','c'],'3':['d','e','f'],4:['g','h','i'],'5':['j','k','l'],6:['m','n','o'],7:['p','q','r','s'],8:['t','u','v'],'9':['w','x','y','z']}\n",
    "l = []\n",
    "\n",
    "def num_to_char(nums):\n",
    "    count = 0\n",
    "    for i in range(len(nums)-1):\n",
    "        if nums[i] == nums[i+1]:\n",
    "            count += 1\n",
    "            if i == len(nums)-2:\n",
    "                l.append(d[nums[i]][count])\n",
    "            continue     \n",
    "        l.append(d[nums[i]][count])\n",
    "        count = 0\n",
    "            \n",
    "    return \"\".join(l)\n",
    "\n",
    "# nums = \"9999335533\"\n",
    "# num_to_char(nums)"
   ]
  },
  {
   "cell_type": "markdown",
   "metadata": {},
   "source": [
    "2.Given a dict of tickets(\"to\":\"from\")\n",
    "\n",
    "{\"Chennai\":\"Banglore\",\"Bombay\":\"Delhi\",\"Goa\":\"Chennai\",\"Delhi\":\"Goa\"} find out the sequence of travel.\n",
    "\n",
    "Expected Output : Bombay->Delhi, Delhi->Goa, Goa->Chennai, Chennai->Banglore\n",
    "\n",
    "Function Name : travel_sequence Input : dict Output : dict"
   ]
  },
  {
   "cell_type": "code",
   "execution_count": 38,
   "metadata": {},
   "outputs": [],
   "source": [
    "d = {\"Chennai\":\"Banglore\",\"Bombay\":\"Delhi\",\"Goa\":\"Chennai\",\"Delhi\":\"Goa\"}\n",
    "\n",
    "l = list(d.keys())\n",
    "l1 = list(d.values())\n",
    "l2 = []\n",
    "\n",
    "d1 = {}\n",
    "def travel_sequence(e): \n",
    "    for i in range(len(l)):\n",
    "        if l[i] not in l1:\n",
    "            d1[l[i]] = d[l[i]]\n",
    "            break\n",
    "            \n",
    "    for j in l1:\n",
    "        if d1[l[i]] == j:\n",
    "            d1[j] = d[j]\n",
    "            d1[d[j]] = d[d[j]]\n",
    "            d1[d[d[j]]] = d[d[d[j]]]\n",
    "            \n",
    "    return d1  \n",
    "# Bombay->Delhi, Delhi->Goa, Goa->Chennai, Chennai->Bangl\n",
    "# travel_sequence(d)"
   ]
  },
  {
   "cell_type": "markdown",
   "metadata": {},
   "source": [
    "3.Given a dictionary that associates the names of states with a list of the names of cities that appear in it,write a program that creates a new dictionary that associates the name of a city with the list of states that it appears in.\n",
    "\n",
    "As an example, if the first dictionary is\n",
    "\n",
    "Input : states = {'New Hampshire': ['Concord', 'Hanover'],\n",
    "\n",
    "'Massachusetts': ['Boston', 'Concord', 'Springfield'],\n",
    "\n",
    "'Illinois': ['Chicago', 'Springfield', 'Peoria'] }\n",
    "\n",
    "Output:\n",
    "\n",
    "cities = {'Hanover': ['New Hampshire'],\n",
    "\n",
    "'Chicago': ['Illinois'],'Boston': ['Massachusetts'],\n",
    "\n",
    "'Peoria': ['Illinois'],'Concord': ['New Hampshire','Massachusetts'],\n",
    "\n",
    "'Springfield': ['Massachusetts', 'Illinois'] }\n",
    "\n",
    "Function Name : city_with_states Input : dict Output : dict"
   ]
  },
  {
   "cell_type": "code",
   "execution_count": 39,
   "metadata": {},
   "outputs": [],
   "source": [
    "I = {'New Hampshire': ['Concord', 'Hanover'], 'Massachusetts': ['Boston', 'Concord', 'Springfield'], 'Illinois': ['Chicago', 'Springfield', 'Peoria'] }\n",
    "\n",
    "def city_with_states(I):\n",
    "    d = {}\n",
    "    for i in I.keys():\n",
    "        for j in range(len(I[i])):\n",
    "            l = []\n",
    "            for k in I.keys():\n",
    "                if I[i][j] in I[k]:\n",
    "                    l.append(k)\n",
    "                    d[I[i][j]] = l                \n",
    "    return d\n",
    "\n",
    "# {'Hanover': ['New Hampshire'],\n",
    "\n",
    "# 'Chicago': ['Illinois'],'Boston': ['Massachusetts'],\n",
    "\n",
    "# 'Peoria': ['Illinois'],'Concord': ['New Hampshire','Massachusetts'],\n",
    "\n",
    "# 'Springfield': ['Massachusetts', 'Illinois'] }\n",
    "\n",
    "# city_with_states(I)"
   ]
  },
  {
   "cell_type": "markdown",
   "metadata": {},
   "source": [
    "4.How do you check if a given String contains valid parentheses? Given a string containing just the characters '(', ')', '{', '}', '[' and ']', write a program in python to check if the input string is valid. The brackets must close in the correct order, \"()\" and \"()[]{}\" are all valid but \"(]\" and \"([)]\" are not.\n",
    "\n",
    "Function Name : check_parentheses Input : str Output : True/False"
   ]
  },
  {
   "cell_type": "code",
   "execution_count": 40,
   "metadata": {},
   "outputs": [],
   "source": [
    "import re\n",
    "\n",
    "def check_paranthesis(s):\n",
    "    r = \"((\\(\\))*(\\[\\])*(\\{\\})*)*\"\n",
    "    m = re.search(r,s)\n",
    "\n",
    "    if m.span() != (0,0):\n",
    "        return m.group()\n",
    "    else:\n",
    "        return \"wrong Paranthesis pattern\"\n",
    "    \n",
    "# s = input()\n",
    "# check_paranthesis(s)"
   ]
  },
  {
   "cell_type": "markdown",
   "metadata": {},
   "source": [
    "5.Write a program to convert Integer to Roman String. For example, if a given integer is 5 then your program should print \"V\".\n",
    "\n",
    "Function Name : int_roman Input : int Output : str"
   ]
  },
  {
   "cell_type": "code",
   "execution_count": 41,
   "metadata": {},
   "outputs": [],
   "source": [
    "def int_to_roman(num):\n",
    "    s = ''\n",
    "    i = 0\n",
    "    while num > 0:\n",
    "        for _ in range(num // N[i]):\n",
    "            s = s+R[i]\n",
    "            num = num - N[i] \n",
    "        i += 1\n",
    "        \n",
    "    return s\n",
    "\n",
    "# N = [1000, 900, 500, 400, 100, 90, 50, 40, 10, 9, 5, 4, 1]\n",
    "# R = [\"M\", \"CM\", \"D\", \"CD\",\"C\", \"XC\", \"L\", \"XL\",\"X\", \"IX\", \"V\", \"IV\",\"I\"]\n",
    "\n",
    "# int_to_roman(1024)"
   ]
  },
  {
   "cell_type": "markdown",
   "metadata": {},
   "source": [
    "6.Write a program utility that counts the number of lines of actual python code in a. For the purpose of this exercise, a line is counted if it contains something other than whitespace or text in a comment.\n",
    "\n",
    "remember that comment start sequences that appear inside python strings should be ignored.\n",
    "\n",
    "Function Name : count_code_lines Input : str Output : int"
   ]
  },
  {
   "cell_type": "code",
   "execution_count": 42,
   "metadata": {},
   "outputs": [],
   "source": [
    "def count_code_lines(input_code):\n",
    "    input_code_list = input_code.split('\\n')\n",
    "    line_count = 0\n",
    "    for i in input_code_list:\n",
    "        if len(i) > 0:\n",
    "            line_count += 1\n",
    "    return \"The valid number of lines in code is {}\".format(line_count)\n",
    "\n",
    "# input_code = \"\"\"\n",
    "# #Linear search implementation\n",
    "# #Takes list and a key as input and returns True or False as answer\n",
    "# def linear_saerch(l,key):\n",
    "#     for value in l:\n",
    "#         if key == value:\n",
    "#             return True #Return True is key exist\n",
    "#     else:\n",
    "#         return False #Return False if key does not exist\n",
    "\n",
    "# l = [100,200,300,400,500,600]\n",
    "# key = 500\n",
    "# result = linear_search(l,key)\n",
    "# print(result)\n",
    "# \"\"\"\n",
    "# count_code_lines(input_code)"
   ]
  },
  {
   "cell_type": "markdown",
   "metadata": {},
   "source": [
    "7.Write a program to check the strength of a supplied password\n",
    "\n",
    "The length of the password must be at least 8 characters in length The password must contain at least 1 capital letter The password must contain at least 1 digit The password must contain at least 1 special character and allowed special characters are (!,@,#,$,&)\n",
    "\n",
    "We need to provide feedback to the user about the strength of their password\n",
    "\n",
    "Provide the user with a list of reasons why their password is 'weak'\n",
    "Function Name : check_password_strength Input : str Output : tuple (str,list) eg (\"Weak\",[\"The password must contain at least 1 capital letter\"])"
   ]
  },
  {
   "cell_type": "code",
   "execution_count": 43,
   "metadata": {},
   "outputs": [],
   "source": [
    "spl_chr = \"@|!|&|#|\\$\"\n",
    "\n",
    "def pass_check(s):\n",
    "    if len(s) >= 8:\n",
    "        if [x for x in s if x.isupper()]:\n",
    "            if [x for x in s if x.isdigit()]:\n",
    "                if re.search(spl_chr,s):\n",
    "                    print(\"(Strong,[Password satisfies all conditions])\")\n",
    "                else:\n",
    "                    print(\"(Weak,[The password must contain a spcl chr])\")\n",
    "            else:\n",
    "                print(\"(Weak,[The Password must contain atleast 1 integer])\")\n",
    "        else:\n",
    "            print(\"(Weak,[The password must contain atleast 1 Uppercase letter])\")\n",
    "    else:\n",
    "        print(\"(Weak,[The password must contain atleast 8 chracters])\")   \n",
    "\n",
    "# s = \"Abcdadf\"\n",
    "# pass_check(s)"
   ]
  },
  {
   "cell_type": "markdown",
   "metadata": {},
   "source": [
    "8.Check if given sentence is syntactically correct or not\n",
    "A simple sentence if syntactically correct if it fulfills given rules. The following are given rules.\n",
    "\n",
    "Sentence must start with a Uppercase character (e.g. Noun/ I/ We/ He etc.)\n",
    "There must be spaces between words.\n",
    "Then the sentence must end with a full stop(.).\n",
    "Two continuous spaces are not allowed.\n",
    "Two continuous uppercase characters are not allowed.\n",
    "However the sentence can end after an uppercase character.\n",
    "Function Name : check_sentence Input : str Output : tuple (True/False,list) eg (False,[\"There must be spaces between words.\"])"
   ]
  },
  {
   "cell_type": "code",
   "execution_count": 44,
   "metadata": {},
   "outputs": [],
   "source": [
    "## First Approach\n",
    "\n",
    "# import re\n",
    "\n",
    "# r = \"^[A-Z][a-z]*[a-z\\s]+[A-Z]?\\.$\"\n",
    "\n",
    "# s = \"The name is vish.\"\n",
    "\n",
    "# m = re.search(r,s)\n",
    "\n",
    "# if m and s == m.group():\n",
    "#     print(\"syntactically correct\")\n",
    "# else:\n",
    "#     print(\"syntactically not correct\")\n",
    "    \n",
    "## Second Approach\n",
    "def check_sentence(sentence):\n",
    "    r1 = '\\s'\n",
    "    m = re.findall(r1,s)\n",
    "    \n",
    "    if len(m) == len(sentence.split())-1:\n",
    "        if sentence[0].isupper():\n",
    "            for i in range(len(sentence)-1):\n",
    "                if sentence[i].isupper() and sentence[i+1].isupper():\n",
    "                    return \"(False,[Two consucitive uppercase letters])\"\n",
    "                elif sentence[i] == \" \" and sentence[i+1] == \" \":\n",
    "                    return \"(False,[Two Consuicitive spaces are not allowed])\"\n",
    "                elif sentence[-1] != \".\":\n",
    "                    return \"(False,[The sentence should end with Full stop])\"\n",
    "            else:\n",
    "                return \"(True,[The sentence is syntactically correct])\"\n",
    "        else:\n",
    "            return \"(False,[The sentence should start from Capital letters])\"\n",
    "    else:\n",
    "        return \"(False,[The sentence should contain space between words])\"\n",
    "    \n",
    "# s1 = \"The name is Vishwa.\"\n",
    "# check_sentence(s1)"
   ]
  },
  {
   "cell_type": "markdown",
   "metadata": {},
   "source": [
    "9.Given an array arr[] of integers and an integer K, the task is to find the greatest contiguous sub-array of size K.\n",
    "\n",
    "Sub-array X is said to be greater than sub-array Y if the first non-matching element in both the sub-arrays has a greater value in X than in Y.\n",
    "\n",
    "For example : Input: arr[] = {1, 4, 3, 2, 5}, K = 4 Output: 4 3 2 5 Two subarrays are {1, 4, 3, 2} and {4, 3, 2, 5}. First non-matching element from array1 and array 2 : 1 and 4 as 4 is greater Hence, the greater one is {4, 3, 2, 5}\n",
    "\n",
    "Function Name : greatest_sub_array() Input : list Output : list"
   ]
  },
  {
   "cell_type": "code",
   "execution_count": 45,
   "metadata": {},
   "outputs": [],
   "source": [
    "def greatest_sub_array(l):\n",
    "    new_l = []\n",
    "    for i in range(len(l)-2):\n",
    "        new_l.append(l[i:-1])\n",
    "        new_l.append(l[i+1:])\n",
    "    j = 0\n",
    "    \n",
    "    for _ in range(j,len(new_l)-1):\n",
    "        if j == len(new_l)-2:\n",
    "            if new_l[j][0] > new_l[j+1][0]:\n",
    "                return new_l[j]\n",
    "            elif new_l[j+1][0] > new_l[j][0]:\n",
    "                return new_l[j+1]\n",
    "        elif new_l[j][0] > new_l[j+1][0]:\n",
    "            return new_l[j]\n",
    "        elif new_l[j+1][0] > new_l[j][0]:\n",
    "            return new_l[j+1]\n",
    "        else:\n",
    "            j += 2\n",
    "\n"
   ]
  },
  {
   "cell_type": "markdown",
   "metadata": {},
   "source": [
    "10.Given a list of N integers. The task is to eliminate the minimum number of elements such that in the resulting list the sum of any two adjacent values is even.\n",
    "\n",
    "Numbers = [1, 3, 5, 4, 2] Output = [1, 3, 5] Total elements removed 2 Elements to be removed [4,2]\n",
    "\n",
    "Function Name : adj_sum_even() Input : list Output : tuple(int,list)"
   ]
  },
  {
   "cell_type": "code",
   "execution_count": 46,
   "metadata": {},
   "outputs": [],
   "source": [
    "def adj_sum_even(l):\n",
    "    l1 = []\n",
    "    for i in range(len(l)):\n",
    "        if l[i] % 2 == 1: \n",
    "            l1.append(l[i])\n",
    "    return (l1)\n",
    "\n",
    "# l = [1,3,5,4,2,6,7,9]\n",
    "# print(adj_sum_even(l))"
   ]
  }
 ],
 "metadata": {
  "kernelspec": {
   "display_name": "Python",
   "language": "python",
   "name": "conda-env-python-py"
  },
  "language_info": {
   "codemirror_mode": {
    "name": "ipython",
    "version": 3
   },
   "file_extension": ".py",
   "mimetype": "text/x-python",
   "name": "python",
   "nbconvert_exporter": "python",
   "pygments_lexer": "ipython3",
   "version": "3.6.7"
  }
 },
 "nbformat": 4,
 "nbformat_minor": 4
}
